{
 "cells": [
  {
   "cell_type": "markdown",
   "metadata": {},
   "source": [
    "## The pre-processing "
   ]
  },
  {
   "cell_type": "code",
   "execution_count": 105,
   "metadata": {
    "collapsed": true
   },
   "outputs": [],
   "source": [
    "import pandas as pd\n",
    "import numpy as np"
   ]
  },
  {
   "cell_type": "markdown",
   "metadata": {},
   "source": [
    "Links to data: https://factfinder.census.gov/faces/tableservices/jsf/pages/productview.xhtml?pid=ACS_pums_csv_2012_2016&prodType=document\n",
    "\n",
    "Data dic: https://www2.census.gov/programs-surveys/acs/tech_docs/pums/data_dict/PUMS_Data_Dictionary_2012-2016.pdf\n",
    "\n",
    "Please download \"Rhode Island - Housing Unit Records\" "
   ]
  },
  {
   "cell_type": "markdown",
   "metadata": {},
   "source": [
    "# 2012-2016 ACS PUMS DATA"
   ]
  },
  {
   "cell_type": "code",
   "execution_count": 107,
   "metadata": {
    "collapsed": true
   },
   "outputs": [],
   "source": [
    "rhode_island = pd.read_csv(\"clean_data.csv\")"
   ]
  },
  {
   "cell_type": "code",
   "execution_count": 108,
   "metadata": {},
   "outputs": [
    {
     "data": {
      "text/html": [
       "<div>\n",
       "<style>\n",
       "    .dataframe thead tr:only-child th {\n",
       "        text-align: right;\n",
       "    }\n",
       "\n",
       "    .dataframe thead th {\n",
       "        text-align: left;\n",
       "    }\n",
       "\n",
       "    .dataframe tbody tr th {\n",
       "        vertical-align: top;\n",
       "    }\n",
       "</style>\n",
       "<table border=\"1\" class=\"dataframe\">\n",
       "  <thead>\n",
       "    <tr style=\"text-align: right;\">\n",
       "      <th></th>\n",
       "      <th>RT</th>\n",
       "      <th>SERIALNO</th>\n",
       "      <th>DIVISION</th>\n",
       "      <th>PUMA</th>\n",
       "      <th>REGION</th>\n",
       "      <th>ST</th>\n",
       "      <th>ADJHSG</th>\n",
       "      <th>ADJINC</th>\n",
       "      <th>WGTP</th>\n",
       "      <th>NP</th>\n",
       "      <th>...</th>\n",
       "      <th>WGTP71</th>\n",
       "      <th>WGTP72</th>\n",
       "      <th>WGTP73</th>\n",
       "      <th>WGTP74</th>\n",
       "      <th>WGTP75</th>\n",
       "      <th>WGTP76</th>\n",
       "      <th>WGTP77</th>\n",
       "      <th>WGTP78</th>\n",
       "      <th>WGTP79</th>\n",
       "      <th>WGTP80</th>\n",
       "    </tr>\n",
       "  </thead>\n",
       "  <tbody>\n",
       "    <tr>\n",
       "      <th>0</th>\n",
       "      <td>H</td>\n",
       "      <td>2012000000026</td>\n",
       "      <td>1</td>\n",
       "      <td>201</td>\n",
       "      <td>1</td>\n",
       "      <td>44</td>\n",
       "      <td>1045360</td>\n",
       "      <td>1056030</td>\n",
       "      <td>0</td>\n",
       "      <td>1</td>\n",
       "      <td>...</td>\n",
       "      <td>0</td>\n",
       "      <td>0</td>\n",
       "      <td>0</td>\n",
       "      <td>0</td>\n",
       "      <td>0</td>\n",
       "      <td>0</td>\n",
       "      <td>0</td>\n",
       "      <td>0</td>\n",
       "      <td>0</td>\n",
       "      <td>0</td>\n",
       "    </tr>\n",
       "    <tr>\n",
       "      <th>1</th>\n",
       "      <td>H</td>\n",
       "      <td>2012000000447</td>\n",
       "      <td>1</td>\n",
       "      <td>300</td>\n",
       "      <td>1</td>\n",
       "      <td>44</td>\n",
       "      <td>1045360</td>\n",
       "      <td>1056030</td>\n",
       "      <td>0</td>\n",
       "      <td>1</td>\n",
       "      <td>...</td>\n",
       "      <td>0</td>\n",
       "      <td>0</td>\n",
       "      <td>0</td>\n",
       "      <td>0</td>\n",
       "      <td>0</td>\n",
       "      <td>0</td>\n",
       "      <td>0</td>\n",
       "      <td>0</td>\n",
       "      <td>0</td>\n",
       "      <td>0</td>\n",
       "    </tr>\n",
       "    <tr>\n",
       "      <th>2</th>\n",
       "      <td>H</td>\n",
       "      <td>2012000000506</td>\n",
       "      <td>1</td>\n",
       "      <td>103</td>\n",
       "      <td>1</td>\n",
       "      <td>44</td>\n",
       "      <td>1045360</td>\n",
       "      <td>1056030</td>\n",
       "      <td>20</td>\n",
       "      <td>1</td>\n",
       "      <td>...</td>\n",
       "      <td>20</td>\n",
       "      <td>30</td>\n",
       "      <td>22</td>\n",
       "      <td>15</td>\n",
       "      <td>7</td>\n",
       "      <td>5</td>\n",
       "      <td>29</td>\n",
       "      <td>31</td>\n",
       "      <td>6</td>\n",
       "      <td>33</td>\n",
       "    </tr>\n",
       "    <tr>\n",
       "      <th>3</th>\n",
       "      <td>H</td>\n",
       "      <td>2012000000658</td>\n",
       "      <td>1</td>\n",
       "      <td>300</td>\n",
       "      <td>1</td>\n",
       "      <td>44</td>\n",
       "      <td>1045360</td>\n",
       "      <td>1056030</td>\n",
       "      <td>10</td>\n",
       "      <td>2</td>\n",
       "      <td>...</td>\n",
       "      <td>17</td>\n",
       "      <td>17</td>\n",
       "      <td>10</td>\n",
       "      <td>10</td>\n",
       "      <td>9</td>\n",
       "      <td>2</td>\n",
       "      <td>11</td>\n",
       "      <td>16</td>\n",
       "      <td>10</td>\n",
       "      <td>9</td>\n",
       "    </tr>\n",
       "    <tr>\n",
       "      <th>4</th>\n",
       "      <td>H</td>\n",
       "      <td>2012000001192</td>\n",
       "      <td>1</td>\n",
       "      <td>101</td>\n",
       "      <td>1</td>\n",
       "      <td>44</td>\n",
       "      <td>1045360</td>\n",
       "      <td>1056030</td>\n",
       "      <td>23</td>\n",
       "      <td>2</td>\n",
       "      <td>...</td>\n",
       "      <td>21</td>\n",
       "      <td>7</td>\n",
       "      <td>22</td>\n",
       "      <td>7</td>\n",
       "      <td>42</td>\n",
       "      <td>39</td>\n",
       "      <td>22</td>\n",
       "      <td>27</td>\n",
       "      <td>25</td>\n",
       "      <td>40</td>\n",
       "    </tr>\n",
       "  </tbody>\n",
       "</table>\n",
       "<p>5 rows × 208 columns</p>\n",
       "</div>"
      ],
      "text/plain": [
       "  RT       SERIALNO  DIVISION  PUMA  REGION  ST   ADJHSG   ADJINC  WGTP  NP  \\\n",
       "0  H  2012000000026         1   201       1  44  1045360  1056030     0   1   \n",
       "1  H  2012000000447         1   300       1  44  1045360  1056030     0   1   \n",
       "2  H  2012000000506         1   103       1  44  1045360  1056030    20   1   \n",
       "3  H  2012000000658         1   300       1  44  1045360  1056030    10   2   \n",
       "4  H  2012000001192         1   101       1  44  1045360  1056030    23   2   \n",
       "\n",
       "    ...    WGTP71  WGTP72  WGTP73  WGTP74  WGTP75  WGTP76  WGTP77  WGTP78  \\\n",
       "0   ...         0       0       0       0       0       0       0       0   \n",
       "1   ...         0       0       0       0       0       0       0       0   \n",
       "2   ...        20      30      22      15       7       5      29      31   \n",
       "3   ...        17      17      10      10       9       2      11      16   \n",
       "4   ...        21       7      22       7      42      39      22      27   \n",
       "\n",
       "   WGTP79  WGTP80  \n",
       "0       0       0  \n",
       "1       0       0  \n",
       "2       6      33  \n",
       "3      10       9  \n",
       "4      25      40  \n",
       "\n",
       "[5 rows x 208 columns]"
      ]
     },
     "execution_count": 108,
     "metadata": {},
     "output_type": "execute_result"
    }
   ],
   "source": [
    "rhode_island.head()"
   ]
  },
  {
   "cell_type": "code",
   "execution_count": 79,
   "metadata": {},
   "outputs": [
    {
     "data": {
      "text/plain": [
       "(26825, 208)"
      ]
     },
     "execution_count": 79,
     "metadata": {},
     "output_type": "execute_result"
    }
   ],
   "source": [
    "rhode_island.shape"
   ]
  },
  {
   "cell_type": "code",
   "execution_count": 44,
   "metadata": {},
   "outputs": [
    {
     "data": {
      "text/html": [
       "<div>\n",
       "<style>\n",
       "    .dataframe thead tr:only-child th {\n",
       "        text-align: right;\n",
       "    }\n",
       "\n",
       "    .dataframe thead th {\n",
       "        text-align: left;\n",
       "    }\n",
       "\n",
       "    .dataframe tbody tr th {\n",
       "        vertical-align: top;\n",
       "    }\n",
       "</style>\n",
       "<table border=\"1\" class=\"dataframe\">\n",
       "  <thead>\n",
       "    <tr style=\"text-align: right;\">\n",
       "      <th></th>\n",
       "      <th>RT</th>\n",
       "      <th>SERIALNO</th>\n",
       "      <th>DIVISION</th>\n",
       "      <th>PUMA</th>\n",
       "      <th>REGION</th>\n",
       "      <th>ST</th>\n",
       "      <th>ADJHSG</th>\n",
       "      <th>ADJINC</th>\n",
       "      <th>WGTP</th>\n",
       "      <th>NP</th>\n",
       "      <th>...</th>\n",
       "      <th>WGTP71</th>\n",
       "      <th>WGTP72</th>\n",
       "      <th>WGTP73</th>\n",
       "      <th>WGTP74</th>\n",
       "      <th>WGTP75</th>\n",
       "      <th>WGTP76</th>\n",
       "      <th>WGTP77</th>\n",
       "      <th>WGTP78</th>\n",
       "      <th>WGTP79</th>\n",
       "      <th>WGTP80</th>\n",
       "    </tr>\n",
       "  </thead>\n",
       "  <tbody>\n",
       "    <tr>\n",
       "      <th>0</th>\n",
       "      <td>H</td>\n",
       "      <td>2012000000011</td>\n",
       "      <td>9</td>\n",
       "      <td>8508</td>\n",
       "      <td>4</td>\n",
       "      <td>6</td>\n",
       "      <td>1045360</td>\n",
       "      <td>1056030</td>\n",
       "      <td>21</td>\n",
       "      <td>2</td>\n",
       "      <td>...</td>\n",
       "      <td>37</td>\n",
       "      <td>39</td>\n",
       "      <td>23</td>\n",
       "      <td>22</td>\n",
       "      <td>34</td>\n",
       "      <td>5</td>\n",
       "      <td>24</td>\n",
       "      <td>7</td>\n",
       "      <td>7</td>\n",
       "      <td>22</td>\n",
       "    </tr>\n",
       "    <tr>\n",
       "      <th>1</th>\n",
       "      <td>H</td>\n",
       "      <td>2012000000019</td>\n",
       "      <td>9</td>\n",
       "      <td>7502</td>\n",
       "      <td>4</td>\n",
       "      <td>6</td>\n",
       "      <td>1045360</td>\n",
       "      <td>1056030</td>\n",
       "      <td>34</td>\n",
       "      <td>0</td>\n",
       "      <td>...</td>\n",
       "      <td>56</td>\n",
       "      <td>37</td>\n",
       "      <td>57</td>\n",
       "      <td>9</td>\n",
       "      <td>36</td>\n",
       "      <td>55</td>\n",
       "      <td>51</td>\n",
       "      <td>37</td>\n",
       "      <td>36</td>\n",
       "      <td>40</td>\n",
       "    </tr>\n",
       "    <tr>\n",
       "      <th>2</th>\n",
       "      <td>H</td>\n",
       "      <td>2012000000022</td>\n",
       "      <td>9</td>\n",
       "      <td>8105</td>\n",
       "      <td>4</td>\n",
       "      <td>6</td>\n",
       "      <td>1045360</td>\n",
       "      <td>1056030</td>\n",
       "      <td>14</td>\n",
       "      <td>1</td>\n",
       "      <td>...</td>\n",
       "      <td>15</td>\n",
       "      <td>25</td>\n",
       "      <td>23</td>\n",
       "      <td>22</td>\n",
       "      <td>14</td>\n",
       "      <td>4</td>\n",
       "      <td>14</td>\n",
       "      <td>24</td>\n",
       "      <td>14</td>\n",
       "      <td>25</td>\n",
       "    </tr>\n",
       "    <tr>\n",
       "      <th>3</th>\n",
       "      <td>H</td>\n",
       "      <td>2012000000031</td>\n",
       "      <td>9</td>\n",
       "      <td>1305</td>\n",
       "      <td>4</td>\n",
       "      <td>6</td>\n",
       "      <td>1045360</td>\n",
       "      <td>1056030</td>\n",
       "      <td>19</td>\n",
       "      <td>2</td>\n",
       "      <td>...</td>\n",
       "      <td>20</td>\n",
       "      <td>6</td>\n",
       "      <td>21</td>\n",
       "      <td>21</td>\n",
       "      <td>36</td>\n",
       "      <td>38</td>\n",
       "      <td>6</td>\n",
       "      <td>7</td>\n",
       "      <td>30</td>\n",
       "      <td>30</td>\n",
       "    </tr>\n",
       "    <tr>\n",
       "      <th>4</th>\n",
       "      <td>H</td>\n",
       "      <td>2012000000040</td>\n",
       "      <td>9</td>\n",
       "      <td>2901</td>\n",
       "      <td>4</td>\n",
       "      <td>6</td>\n",
       "      <td>1045360</td>\n",
       "      <td>1056030</td>\n",
       "      <td>2</td>\n",
       "      <td>2</td>\n",
       "      <td>...</td>\n",
       "      <td>3</td>\n",
       "      <td>5</td>\n",
       "      <td>4</td>\n",
       "      <td>4</td>\n",
       "      <td>2</td>\n",
       "      <td>2</td>\n",
       "      <td>2</td>\n",
       "      <td>2</td>\n",
       "      <td>2</td>\n",
       "      <td>1</td>\n",
       "    </tr>\n",
       "  </tbody>\n",
       "</table>\n",
       "<p>5 rows × 208 columns</p>\n",
       "</div>"
      ],
      "text/plain": [
       "  RT       SERIALNO  DIVISION  PUMA  REGION  ST   ADJHSG   ADJINC  WGTP  NP  \\\n",
       "0  H  2012000000011         9  8508       4   6  1045360  1056030    21   2   \n",
       "1  H  2012000000019         9  7502       4   6  1045360  1056030    34   0   \n",
       "2  H  2012000000022         9  8105       4   6  1045360  1056030    14   1   \n",
       "3  H  2012000000031         9  1305       4   6  1045360  1056030    19   2   \n",
       "4  H  2012000000040         9  2901       4   6  1045360  1056030     2   2   \n",
       "\n",
       "    ...    WGTP71  WGTP72  WGTP73  WGTP74  WGTP75  WGTP76  WGTP77  WGTP78  \\\n",
       "0   ...        37      39      23      22      34       5      24       7   \n",
       "1   ...        56      37      57       9      36      55      51      37   \n",
       "2   ...        15      25      23      22      14       4      14      24   \n",
       "3   ...        20       6      21      21      36      38       6       7   \n",
       "4   ...         3       5       4       4       2       2       2       2   \n",
       "\n",
       "   WGTP79  WGTP80  \n",
       "0       7      22  \n",
       "1      36      40  \n",
       "2      14      25  \n",
       "3      30      30  \n",
       "4       2       1  \n",
       "\n",
       "[5 rows x 208 columns]"
      ]
     },
     "execution_count": 44,
     "metadata": {},
     "output_type": "execute_result"
    }
   ],
   "source": [
    "#california = pd.read_csv(\"csv_hca/ss16hca.csv\")\n",
    "#california.head()"
   ]
  },
  {
   "cell_type": "code",
   "execution_count": 45,
   "metadata": {},
   "outputs": [
    {
     "data": {
      "text/plain": [
       "(772328, 208)"
      ]
     },
     "execution_count": 45,
     "metadata": {},
     "output_type": "execute_result"
    }
   ],
   "source": [
    "#california.shape"
   ]
  },
  {
   "cell_type": "markdown",
   "metadata": {},
   "source": [
    "We now remove the columns with information that won't be necessary for rent prediction"
   ]
  },
  {
   "cell_type": "code",
   "execution_count": 109,
   "metadata": {},
   "outputs": [
    {
     "name": "stdout",
     "output_type": "stream",
     "text": [
      "Index(['SERIALNO', 'PUMA', 'ADJHSG', 'ADJINC', 'WGTP', 'NP', 'TYPE', 'ACR',\n",
      "       'BATH', 'BDSP', 'BLD', 'BUS', 'CONP', 'ELEP', 'FS', 'FULP', 'GASP',\n",
      "       'HFL', 'INSP', 'MHP', 'MRGI', 'MRGP', 'MRGT', 'MRGX', 'REFR', 'RMSP',\n",
      "       'RNTM', 'RNTP', 'RWAT', 'RWATPR', 'SINK', 'SMP', 'STOV', 'TEL', 'TEN',\n",
      "       'TOIL', 'VACS', 'VALP', 'VEH', 'WATP', 'YBL', 'FES', 'FINCP', 'FPARC',\n",
      "       'GRNTP', 'GRPIP', 'HHL', 'HHT', 'HINCP', 'HUGCL', 'HUPAC', 'HUPAOC',\n",
      "       'HUPARC', 'KIT', 'LNGI', 'MULTG', 'MV', 'NOC', 'NPF', 'NPP', 'NR',\n",
      "       'NRC', 'OCPIP', 'PARTNER', 'PLM', 'PSF', 'R18', 'R60', 'R65', 'RESMODE',\n",
      "       'SMOCP', 'SMX', 'SRNT', 'SVAL', 'TAXP', 'WIF', 'WKEXREL', 'WORKSTAT'],\n",
      "      dtype='object')\n"
     ]
    }
   ],
   "source": [
    "index = np.where(rhode_island.columns == 'WORKSTAT')[0][0]\n",
    "rhode_island = rhode_island[rhode_island.columns[:index+1]]\n",
    "rhode_island.drop(['AGS','RT', 'DIVISION', 'REGION', 'ST'],axis=1, inplace=True)\n",
    "print(rhode_island.columns.unique())"
   ]
  },
  {
   "cell_type": "code",
   "execution_count": 110,
   "metadata": {},
   "outputs": [
    {
     "data": {
      "text/plain": [
       "(26825, 78)"
      ]
     },
     "execution_count": 110,
     "metadata": {},
     "output_type": "execute_result"
    }
   ],
   "source": [
    "rhode_island.shape"
   ]
  },
  {
   "cell_type": "markdown",
   "metadata": {},
   "source": [
    "We exclude institutional and non-institutional units and only leave housing units in our model. Ref: https://www.census.gov/topics/income-poverty/poverty/guidance/group-quarters.html. Then, the dataset size narrows to following:"
   ]
  },
  {
   "cell_type": "code",
   "execution_count": 111,
   "metadata": {},
   "outputs": [
    {
     "data": {
      "text/plain": [
       "(23122, 78)"
      ]
     },
     "execution_count": 111,
     "metadata": {},
     "output_type": "execute_result"
    }
   ],
   "source": [
    "rhode_island = rhode_island[rhode_island.TYPE == 1]\n",
    "rhode_island.shape"
   ]
  },
  {
   "cell_type": "markdown",
   "metadata": {},
   "source": [
    "We remove non-common building types, such as boats, vans and mobile homes as they're technically not \"real\" estate."
   ]
  },
  {
   "cell_type": "code",
   "execution_count": 112,
   "metadata": {},
   "outputs": [
    {
     "data": {
      "text/plain": [
       "(22894, 78)"
      ]
     },
     "execution_count": 112,
     "metadata": {},
     "output_type": "execute_result"
    }
   ],
   "source": [
    "rhode_island = rhode_island[(rhode_island.BLD > 1) & (rhode_island.BLD <= 9)]\n",
    "rhode_island.shape"
   ]
  },
  {
   "cell_type": "markdown",
   "metadata": {},
   "source": [
    "The question about business or medical office on property was dropped in 2016 in an effort to reduce respondent burden. We omit this data in our dataset for consisent prediction and also due to the fact we predict housing rent and not business rent."
   ]
  },
  {
   "cell_type": "code",
   "execution_count": 113,
   "metadata": {},
   "outputs": [
    {
     "data": {
      "text/plain": [
       "(11598, 78)"
      ]
     },
     "execution_count": 113,
     "metadata": {},
     "output_type": "execute_result"
    }
   ],
   "source": [
    "rhode_island = rhode_island[rhode_island.BUS == 2]\n",
    "rhode_island.shape"
   ]
  },
  {
   "cell_type": "code",
   "execution_count": 119,
   "metadata": {
    "collapsed": true
   },
   "outputs": [],
   "source": [
    "rhode_island.SMX = rhode_island.SMX.fillna(-1)"
   ]
  },
  {
   "cell_type": "code",
   "execution_count": 120,
   "metadata": {},
   "outputs": [
    {
     "data": {
      "text/plain": [
       "SERIALNO        0\n",
       "PUMA            0\n",
       "ADJHSG          0\n",
       "ADJINC          0\n",
       "WGTP            0\n",
       "NP              0\n",
       "TYPE            0\n",
       "ACR             0\n",
       "BATH            0\n",
       "BDSP            0\n",
       "BLD             0\n",
       "BUS             0\n",
       "CONP         1880\n",
       "ELEP          743\n",
       "FS            743\n",
       "FULP          743\n",
       "GASP          743\n",
       "HFL           743\n",
       "INSP         1880\n",
       "MHP         11598\n",
       "MRGI         4971\n",
       "MRGP         4971\n",
       "MRGT         4971\n",
       "MRGX         1880\n",
       "REFR            0\n",
       "RMSP            0\n",
       "RNTM        10561\n",
       "RNTP        10561\n",
       "RWAT            0\n",
       "RWATPR          0\n",
       "            ...  \n",
       "HINCP         743\n",
       "HUGCL         743\n",
       "HUPAC         743\n",
       "HUPAOC        743\n",
       "HUPARC        743\n",
       "KIT             0\n",
       "LNGI          743\n",
       "MULTG         743\n",
       "MV            743\n",
       "NOC           743\n",
       "NPF          3561\n",
       "NPP           743\n",
       "NR            743\n",
       "NRC           743\n",
       "OCPIP        1935\n",
       "PARTNER       743\n",
       "PLM             0\n",
       "PSF           743\n",
       "R18           743\n",
       "R60           743\n",
       "R65           743\n",
       "RESMODE         0\n",
       "SMOCP        1880\n",
       "SMX             0\n",
       "SRNT            0\n",
       "SVAL            0\n",
       "TAXP         1880\n",
       "WIF          3561\n",
       "WKEXREL      3561\n",
       "WORKSTAT     3607\n",
       "Length: 78, dtype: int64"
      ]
     },
     "execution_count": 120,
     "metadata": {},
     "output_type": "execute_result"
    }
   ],
   "source": [
    "rhode_island.isnull().sum()"
   ]
  },
  {
   "cell_type": "code",
   "execution_count": 114,
   "metadata": {
    "collapsed": true
   },
   "outputs": [],
   "source": [
    "rhode_island.to_csv(\"clean_data.csv\",header=True)"
   ]
  }
 ],
 "metadata": {
  "kernelspec": {
   "display_name": "Python 3",
   "language": "python",
   "name": "python3"
  },
  "language_info": {
   "codemirror_mode": {
    "name": "ipython",
    "version": 3
   },
   "file_extension": ".py",
   "mimetype": "text/x-python",
   "name": "python",
   "nbconvert_exporter": "python",
   "pygments_lexer": "ipython3",
   "version": "3.6.3"
  }
 },
 "nbformat": 4,
 "nbformat_minor": 2
}
